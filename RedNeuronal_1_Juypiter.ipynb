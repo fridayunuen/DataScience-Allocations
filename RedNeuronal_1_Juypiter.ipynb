{
 "cells": [
  {
   "cell_type": "code",
   "execution_count": null,
   "id": "09a303ff",
   "metadata": {},
   "outputs": [],
   "source": [
    "# Instalacion \n",
    "# !pip install keras\n",
    "# !pip install tensorflow\n"
   ]
  },
  {
   "cell_type": "code",
   "execution_count": 14,
   "id": "3e825eb6",
   "metadata": {},
   "outputs": [
    {
     "name": "stdout",
     "output_type": "stream",
     "text": [
      "Model: \"sequential_1\"\n",
      "_________________________________________________________________\n",
      " Layer (type)                Output Shape              Param #   \n",
      "=================================================================\n",
      " conv2d_1 (Conv2D)           (None, 26, 26, 32)        320       \n",
      "                                                                 \n",
      " activation_3 (Activation)   (None, 26, 26, 32)        0         \n",
      "                                                                 \n",
      " max_pooling2d_1 (MaxPooling  (None, 13, 13, 32)       0         \n",
      " 2D)                                                             \n",
      "                                                                 \n",
      " flatten_1 (Flatten)         (None, 5408)              0         \n",
      "                                                                 \n",
      " dense_2 (Dense)             (None, 64)                346176    \n",
      "                                                                 \n",
      " activation_4 (Activation)   (None, 64)                0         \n",
      "                                                                 \n",
      " dropout_1 (Dropout)         (None, 64)                0         \n",
      "                                                                 \n",
      " dense_3 (Dense)             (None, 10)                650       \n",
      "                                                                 \n",
      " activation_5 (Activation)   (None, 10)                0         \n",
      "                                                                 \n",
      "=================================================================\n",
      "Total params: 347,146\n",
      "Trainable params: 347,146\n",
      "Non-trainable params: 0\n",
      "_________________________________________________________________\n",
      "Epoch 1/10\n",
      "1875/1875 [==============================] - 30s 15ms/step - loss: 0.3764 - accuracy: 0.8862 - val_loss: 0.0911 - val_accuracy: 0.9728\n",
      "Epoch 2/10\n",
      "1875/1875 [==============================] - 29s 15ms/step - loss: 0.1728 - accuracy: 0.9498 - val_loss: 0.0671 - val_accuracy: 0.9785\n",
      "Epoch 3/10\n",
      "1875/1875 [==============================] - 28s 15ms/step - loss: 0.1346 - accuracy: 0.9605 - val_loss: 0.0581 - val_accuracy: 0.9801\n",
      "Epoch 4/10\n",
      "1875/1875 [==============================] - 29s 16ms/step - loss: 0.1130 - accuracy: 0.9655 - val_loss: 0.0547 - val_accuracy: 0.9815\n",
      "Epoch 5/10\n",
      "1875/1875 [==============================] - 29s 16ms/step - loss: 0.1011 - accuracy: 0.9688 - val_loss: 0.0487 - val_accuracy: 0.9838\n",
      "Epoch 6/10\n",
      "1875/1875 [==============================] - 29s 15ms/step - loss: 0.0898 - accuracy: 0.9721 - val_loss: 0.0490 - val_accuracy: 0.9851\n",
      "Epoch 7/10\n",
      "1875/1875 [==============================] - 29s 15ms/step - loss: 0.0820 - accuracy: 0.9739 - val_loss: 0.0446 - val_accuracy: 0.9861\n",
      "Epoch 8/10\n",
      "1875/1875 [==============================] - 29s 16ms/step - loss: 0.0725 - accuracy: 0.9768 - val_loss: 0.0509 - val_accuracy: 0.9849\n",
      "Epoch 9/10\n",
      "1875/1875 [==============================] - 30s 16ms/step - loss: 0.0675 - accuracy: 0.9786 - val_loss: 0.0483 - val_accuracy: 0.9854\n",
      "Epoch 10/10\n",
      "1875/1875 [==============================] - 28s 15ms/step - loss: 0.0664 - accuracy: 0.9787 - val_loss: 0.0468 - val_accuracy: 0.9861\n",
      "313/313 [==============================] - 2s 5ms/step\n",
      "[[5.34309446e-12 4.64432226e-08 7.63525847e-08 ... 9.99999285e-01\n",
      "  4.18023637e-11 1.08794018e-09]\n",
      " [5.88798888e-12 1.24514425e-08 1.00000000e+00 ... 8.74107847e-15\n",
      "  7.35724517e-15 3.24266288e-16]\n",
      " [5.89556052e-12 9.99999523e-01 4.58118912e-08 ... 8.60865335e-09\n",
      "  1.30457085e-08 3.36927319e-10]\n",
      " ...\n",
      " [1.07684979e-13 2.23841293e-10 7.63573926e-12 ... 2.31000321e-08\n",
      "  4.17235739e-08 5.29210183e-07]\n",
      " [9.70961173e-16 5.24104304e-15 9.61708238e-17 ... 4.87433183e-17\n",
      "  1.56098835e-07 8.17274373e-12]\n",
      " [6.27622010e-10 7.27630022e-12 1.00967498e-11 ... 3.37730025e-20\n",
      "  1.07307271e-11 3.31543807e-14]]\n"
     ]
    },
    {
     "data": {
      "image/png": "[encoded data removed]",
      "text/plain": [
       "<Figure size 1440x144 with 1 Axes>"
      ]
     },
     "metadata": {
      "needs_background": "light"
     },
     "output_type": "display_data"
    },
    {
     "data": {
      "image/png": "[encoded data removed]",
      "text/plain": [
       "<Figure size 1440x144 with 1 Axes>"
      ]
     },
     "metadata": {
      "needs_background": "light"
     },
     "output_type": "display_data"
    },
    {
     "data": {
      "image/png": "[encoded data removed]",
      "text/plain": [
       "<Figure size 1440x144 with 1 Axes>"
      ]
     },
     "metadata": {
      "needs_background": "light"
     },
     "output_type": "display_data"
    },
    {
     "data": {
      "image/png": "[encoded data removed]",
      "text/plain": [
       "<Figure size 1440x144 with 1 Axes>"
      ]
     },
     "metadata": {
      "needs_background": "light"
     },
     "output_type": "display_data"
    },
    {
     "data": {
      "image/png": "[encoded data removed]",
      "text/plain": [
       "<Figure size 1440x144 with 1 Axes>"
      ]
     },
     "metadata": {
      "needs_background": "light"
     },
     "output_type": "display_data"
    }
   ],
   "source": [
    "import keras\n",
    "import tensorflow\n",
    "from keras.models import Sequential\n",
    "from keras.layers import Dense, Dropout, Activation, Flatten\n",
    "from keras.layers import Conv2D, MaxPooling2D\n",
    "from keras.utils import np_utils\n",
    "from keras.datasets import mnist\n",
    "from keras.preprocessing.image import ImageDataGenerator\n",
    "from keras.callbacks import EarlyStopping, ModelCheckpoint\n",
    "from keras.models import load_model\n",
    "import numpy as np\n",
    "import matplotlib.pyplot as plt\n",
    "import os\n",
    "import cv2\n",
    "import sys\n",
    "\n",
    "import numpy as np\n",
    "from tensorflow import keras\n",
    "#from tensorflow.keras.models import layers\n",
    "import matplotlib.pyplot as plt\n",
    "import pandas as pd\n",
    "\n",
    "\n",
    "# PREPARE DATA\n",
    "(x_train, y_train), (x_test, y_test) = keras.datasets.mnist.load_data()\n",
    "\n",
    "# Scale data to [0,1] range\n",
    "x_train = x_train.astype('float32')/255\n",
    "x_test = x_test.astype('float32')/255\n",
    "\n",
    "# Make sure images have shape (28,28,1)\n",
    "x_train=np.expand_dims(x_train, -1)\n",
    "x_test=np.expand_dims(x_test, -1)\n",
    "\n",
    "# convert class vectors to binary class matrices\n",
    "num_clases = 10\n",
    "y_train = keras.utils.to_categorical(y_train, num_clases)\n",
    "y_test = keras.utils.to_categorical(y_test, num_clases)\n",
    "\n",
    "\n",
    "\n",
    "'''''\n",
    "# plot the first image in the training set and print the class name once at a time\n",
    "n=5\n",
    "for i in range(n):\n",
    "    plt.figure(figsize=(20,2))\n",
    "    plt.imshow(X_train[i], cmap='gray')\n",
    "    plt.title(y_train[i])\n",
    "    plt.show()\n",
    "'''''\n",
    "\n",
    "# create clasification model as convolutional neural network (CNN) with sequential model\n",
    "model = Sequential()\n",
    "\n",
    "# add convolutional layer with 32 filters and size of 5x5\n",
    "model.add(Conv2D(32, (3, 3), input_shape=(28, 28, 1)))\n",
    "model.add(Activation('relu'))\n",
    "model.add(MaxPooling2D(pool_size=(2, 2)))\n",
    "\n",
    "model.add(Flatten())\n",
    "model.add(Dense(64))\n",
    "model.add(Activation('relu'))\n",
    "model.add(Dropout(0.5))\n",
    "model.add(Dense(10))\n",
    "model.add(Activation('softmax'))\n",
    "\n",
    "model.summary()\n",
    "\n",
    "#compile the model\n",
    "model.compile(loss='categorical_crossentropy', optimizer='adam', metrics=['accuracy'])\n",
    "\n",
    "#train the model\n",
    "model.fit(x_train, y_train, validation_data=(x_test, y_test), epochs=10)\n",
    "\n",
    "# use the model to predict the class of the test set\n",
    "predictions = model.predict(x_test)\n",
    "print(predictions)\n",
    "\n",
    "# plot  first image in the test set and print the class name once at a time\n",
    "n=5\n",
    "for i in range(n):\n",
    "\n",
    "    plt.figure(figsize=(20,2))\n",
    "    plt.imshow(x_train[i], cmap='gray')\n",
    "    plt.title(y_train[i])\n",
    "    plt.show()"
   ]
  },
  {
   "cell_type": "code",
   "execution_count": null,
   "id": "0246e51d",
   "metadata": {},
   "outputs": [],
   "source": []
  }
 ],
 "metadata": {
  "kernelspec": {
   "display_name": "Python 3 (ipykernel)",
   "language": "python",
   "name": "python3"
  },
  "language_info": {
   "codemirror_mode": {
    "name": "ipython",
    "version": 3
   },
   "file_extension": ".py",
   "mimetype": "text/x-python",
   "name": "python",
   "nbconvert_exporter": "python",
   "pygments_lexer": "ipython3",
   "version": "3.9.12"
  }
 },
 "nbformat": 4,
 "nbformat_minor": 5
}
